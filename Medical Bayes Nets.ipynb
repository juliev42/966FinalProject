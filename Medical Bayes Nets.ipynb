{
 "cells": [
  {
   "cell_type": "markdown",
   "metadata": {},
   "source": [
    "6.804 Final Project II: Medical Bayes Net Structure Learning\n",
    "\n",
    "Julie Vaughn\n",
    "\n",
    "This is the primary accompanying notebook to my 6.804 project paper on Bayesian network structure preduction. I developed a particular noisy-OR bayesian network generator from Griffiths and Tenenbaum (2005), generate sample data from it, and then try to infer the structure again with statistical and human measures of causality. \n",
    "\n",
    "Disclaimer: stochastic elements of the program are generated using either pyro or numpy, with little regard for the optimal usage of pyro because I am not very familiar with pyro at all. Please let me know any optimizations you would suggest to better make use of pyro or make the code more efficient in general. \n",
    "\n",
    "Parts\n",
    "(1) Medical Bayes Nets API \n",
    "(2) Data/graph generation with MBNs\n",
    "(3) Structure estimation algorithm with MI\n",
    "(4) Evaluation/results of algorithm  "
   ]
  },
  {
   "cell_type": "code",
   "execution_count": 202,
   "metadata": {
    "collapsed": true
   },
   "outputs": [],
   "source": [
    "import torch\n",
    "import pyro\n",
    "import pyro.distributions as dist\n",
    "import numpy as np\n",
    "from causalgraphicalmodels import CausalGraphicalModel"
   ]
  },
  {
   "cell_type": "code",
   "execution_count": 1238,
   "metadata": {
    "collapsed": false
   },
   "outputs": [],
   "source": [
    "#PART 1: MBN API\n",
    "#define our Disease objects. These will be especially helpful\n",
    "#for creating the vis application later on \n",
    "class Disease:\n",
    "    def __init__(self, prior):\n",
    "        self.prior = prior\n",
    "        self.symptom_dict = {}\n",
    "        self.severity = 0\n",
    "        \n",
    "    def sample_for_patient(self):\n",
    "        disease = pyro.sample('disease', dist.Bernoulli(self.prior))\n",
    "        return disease.item()\n",
    "    \n",
    "    def generate_random_sympt_dict(self, symptoms):\n",
    "        for s in symptoms:\n",
    "            #get weight values for each symptom, change below values if \n",
    "            #you want to put bounds on the values\n",
    "            p_sym = pyro.sample('symptom', dist.Uniform(0,1)) \n",
    "            self.symptom_dict[s] = p_sym.item()\n",
    "        return self.symptom_dict\n",
    "            \n",
    "            \n",
    "    "
   ]
  },
  {
   "cell_type": "code",
   "execution_count": 204,
   "metadata": {
    "collapsed": false
   },
   "outputs": [],
   "source": [
    "#below function is incorporated into the class MedBayesNet below\n",
    "def generate_med_bayes_net(num_diseases, num_symptoms):\n",
    "    disease_list = []\n",
    "    for d in range(num_diseases):\n",
    "        d_prior = pyro.sample('d_prior', dist.Uniform(0,1))\n",
    "        d = Disease(d_prior.item()) #new disease object\n",
    "        \n",
    "        #generate a random list of ints that correspond to symptoms out of all symptoms\n",
    "        symptoms = np.random.choice(num_symptoms, np.random.randint(0, num_symptoms), replace= False)\n",
    "        symptom_list = symptoms.tolist()\n",
    "        symptom_list.sort()\n",
    "        print(symptom_list)\n",
    "        d.generate_random_sympt_dict(symptom_list)\n",
    "        \n",
    "        disease_list.append(d)\n",
    "    return disease_list\n",
    "        "
   ]
  },
  {
   "cell_type": "code",
   "execution_count": 205,
   "metadata": {
    "collapsed": false
   },
   "outputs": [
    {
     "name": "stdout",
     "output_type": "stream",
     "text": [
      "[0, 2]\n",
      "[0, 1, 2, 3]\n",
      "[4]\n"
     ]
    },
    {
     "data": {
      "text/plain": [
       "{4: 0.8133533596992493}"
      ]
     },
     "execution_count": 205,
     "metadata": {},
     "output_type": "execute_result"
    }
   ],
   "source": [
    "diseases = generate_med_bayes_net(3, 5)\n",
    "diseases[2].symptom_dict"
   ]
  },
  {
   "cell_type": "code",
   "execution_count": 595,
   "metadata": {
    "collapsed": false
   },
   "outputs": [],
   "source": [
    "#MedBayesNets are objects that encapsulate a set of symptoms, diseases\n",
    "#and the causal links between them \n",
    "\n",
    "class MedBayesNet:\n",
    "    def __init__(self, num_diseases, num_symptoms):\n",
    "        self.num_diseases = num_diseases\n",
    "        self.num_symptoms = num_symptoms\n",
    "        \n",
    "        disease_list = []\n",
    "        for d in range(num_diseases):\n",
    "            d_prior = pyro.sample('d_prior', dist.Uniform(0,1))\n",
    "            d = Disease(d_prior.item()) #new disease object\n",
    "\n",
    "            #generate a random list of ints that correspond to symptoms out of all symptoms\n",
    "            try: \n",
    "                symptoms = np.random.choice(num_symptoms, np.random.randint(num_symptoms+1), replace= False)\n",
    "                symptom_list = symptoms.tolist()\n",
    "            except: #case when one of the params to np.random.choice was 0\n",
    "                symptom_list = []\n",
    "            symptom_list.sort()\n",
    "            #print(symptom_list)\n",
    "            d.generate_random_sympt_dict(symptom_list)\n",
    "\n",
    "            disease_list.append(d)\n",
    "        \n",
    "        \n",
    "        self.disease_list = disease_list\n",
    "        \n",
    "    def display_disease_connections(self):\n",
    "        ind = 0 \n",
    "        sym_list = []\n",
    "        for d in self.disease_list:\n",
    "            print(ind, d.symptom_dict)\n",
    "            sym_list.append(d.symptom_dict)\n",
    "            ind +=1\n",
    "        return sym_list\n",
    "            \n",
    "    def display_disease_priors(self):\n",
    "        d_list = []\n",
    "        for d in self.disease_list:\n",
    "            print(d.prior)\n",
    "            d_list.append(d.prior)\n",
    "        return d_list\n",
    "            \n",
    "    def get_graphics_object(self):\n",
    "        #make a CausalGraphicalModel object that we can then call .draw() on\n",
    "        d_strings = []\n",
    "        s_strings = []\n",
    "        connections = []\n",
    "        #make string objects for nodes and edges\n",
    "        for s in range(self.num_symptoms):\n",
    "            s_str = \"Symptom \"+str(s)\n",
    "            s_strings.append(s_str)\n",
    "            \n",
    "        for i in range(self.num_diseases):\n",
    "            d_str = \"Disease \"+str(i)\n",
    "            d_strings.append(d_str)\n",
    "            for sym in self.disease_list[i].symptom_dict:\n",
    "                tup = (d_str, s_strings[sym])\n",
    "                connections.append(tup)\n",
    "        #print(connections)\n",
    "        #print(d_strings + s_strings)\n",
    "        graphic = CausalGraphicalModel(\n",
    "        nodes= d_strings + s_strings,\n",
    "        edges= connections\n",
    "            )\n",
    "        \n",
    "        \n",
    "        return graphic\n",
    "    \n",
    "    def get_disease_object(self, index):\n",
    "        return self.disease_list[index]\n",
    "    \n",
    "            \n",
    "    \n",
    "    #bayes sampling methods \n",
    "            \n",
    "    def sample_diseases(self):\n",
    "        dlist = []\n",
    "        for d in self.disease_list:\n",
    "            dlist.append(d.sample_for_patient())\n",
    "        return dlist\n",
    "    \n",
    "    def simple_weighted_symp_sample(self, symptom, patient_list):\n",
    "        #noisy_OR weighted sampling function\n",
    "        ind = 0\n",
    "        prob = 1\n",
    "        for d in self.disease_list: \n",
    "            presence = patient_list[ind]\n",
    "            if presence == 0.0:\n",
    "                continue #skip rest of loop if you don't have the disease\n",
    "            if symptom in d.symptom_dict:\n",
    "                p = d.symptom_dict[symptom]\n",
    "            else: \n",
    "                p = 0\n",
    "            prob *= 1-p\n",
    "            ind += 1\n",
    "        #maybe find a way to store p_symptom in a patient class in the future\n",
    "        p_symptom = 1-prob #bernoulli rv\n",
    "        sym = pyro.sample('sym', dist.Bernoulli(p_symptom))\n",
    "        return (sym.item(), p_symptom)\n",
    "\n",
    "        \n",
    "        \n",
    "            \n",
    "            \n",
    "            \n",
    "    \n"
   ]
  },
  {
   "cell_type": "code",
   "execution_count": 407,
   "metadata": {
    "collapsed": false
   },
   "outputs": [
    {
     "name": "stdout",
     "output_type": "stream",
     "text": [
      "0 {}\n",
      "1 {0: 0.10829275846481323}\n",
      "2 {}\n",
      "3 {1: 0.32552582025527954, 3: 0.46126270294189453}\n",
      "4 {2: 0.13395071029663086, 3: 0.8290655016899109}\n",
      "0.7092970609664917\n",
      "0.5326727032661438\n",
      "0.7009444832801819\n",
      "0.914347767829895\n",
      "0.3408252000808716\n"
     ]
    },
    {
     "data": {
      "text/plain": [
       "[1.0, 0.0, 1.0, 1.0, 1.0]"
      ]
     },
     "execution_count": 407,
     "metadata": {},
     "output_type": "execute_result"
    }
   ],
   "source": [
    "net_5_5 = MedBayesNet(5,5)\n",
    "net_5_5.display_disease_connections()\n",
    "net_5_5.display_disease_priors()\n",
    "net_5_5.sample_diseases()"
   ]
  },
  {
   "cell_type": "code",
   "execution_count": 1239,
   "metadata": {
    "collapsed": false
   },
   "outputs": [],
   "source": [
    "#PART 2: SAMPLING\n",
    "#sampling function\n",
    "import tqdm #track progress\n",
    "def sample_from_net(bayes_net, num):\n",
    "    #num is the # of patients\n",
    "    samples = []\n",
    "    #ind = 0\n",
    "    for ind in tqdm.tqdm(range(num)):\n",
    "        patient_diseases = bayes_net.sample_diseases()\n",
    "        \n",
    "        patient_symptoms = []\n",
    "        for symptom in range(bayes_net.num_symptoms):\n",
    "            #can change which bayes_net sampling funct for symptom is used\n",
    "            #if you want a more generalized bayes net\n",
    "            presence, weight = bayes_net.simple_weighted_symp_sample(symptom, patient_diseases)\n",
    "            #print(symptom, presence, weight)\n",
    "            patient_symptoms.append(presence)\n",
    "        patient = [patient_diseases, patient_symptoms]\n",
    "        samples.append(patient)\n",
    "        #print(patient)\n",
    "        #ind += 1\n",
    "    return samples\n",
    "\n",
    "#samples are of the form [patient1, patient2, ... patient_num]\n",
    "#where patient = [[disease_list],[symptom_list]]\n",
    "\n",
    "        \n",
    "    \n",
    "            \n",
    "            \n",
    "            \n",
    "            \n",
    "            \n",
    "        \n",
    "        \n",
    "        \n",
    "        \n",
    "        "
   ]
  },
  {
   "cell_type": "code",
   "execution_count": 560,
   "metadata": {
    "collapsed": false
   },
   "outputs": [
    {
     "name": "stderr",
     "output_type": "stream",
     "text": [
      "100%|██████████| 10/10 [00:00<00:00, 6024.57it/s]"
     ]
    },
    {
     "name": "stdout",
     "output_type": "stream",
     "text": [
      "0 {}\n",
      "1 {0: 0.6314746737480164}\n",
      "0.22813111543655396\n",
      "0.7014157176017761\n"
     ]
    },
    {
     "name": "stderr",
     "output_type": "stream",
     "text": [
      "\n"
     ]
    },
    {
     "data": {
      "text/plain": [
       "[[[1.0, 1.0], [0.0, 0.0]],\n",
       " [[0.0, 1.0], [0.0, 0.0]],\n",
       " [[0.0, 0.0], [0.0, 0.0]],\n",
       " [[0.0, 1.0], [0.0, 0.0]],\n",
       " [[0.0, 0.0], [0.0, 0.0]],\n",
       " [[0.0, 1.0], [0.0, 0.0]],\n",
       " [[0.0, 1.0], [0.0, 0.0]],\n",
       " [[0.0, 1.0], [0.0, 0.0]],\n",
       " [[0.0, 0.0], [0.0, 0.0]],\n",
       " [[1.0, 0.0], [0.0, 0.0]]]"
      ]
     },
     "execution_count": 560,
     "metadata": {},
     "output_type": "execute_result"
    }
   ],
   "source": [
    "simple_net = MedBayesNet(2,2)\n",
    "simple_net.display_disease_connections()\n",
    "simple_net.display_disease_priors()\n",
    "sample_from_net(simple_net, 10)\n",
    "#simple_net.get_graphics_object().draw()"
   ]
  },
  {
   "cell_type": "code",
   "execution_count": 542,
   "metadata": {
    "collapsed": false,
    "scrolled": true
   },
   "outputs": [
    {
     "data": {
      "image/svg+xml": [
       "<?xml version=\"1.0\" encoding=\"UTF-8\" standalone=\"no\"?>\n",
       "<!DOCTYPE svg PUBLIC \"-//W3C//DTD SVG 1.1//EN\"\n",
       " \"http://www.w3.org/Graphics/SVG/1.1/DTD/svg11.dtd\">\n",
       "<!-- Generated by graphviz version 2.40.1 (20161225.0304)\n",
       " -->\n",
       "<!-- Title: %3 Pages: 1 -->\n",
       "<svg width=\"509pt\" height=\"116pt\"\n",
       " viewBox=\"0.00 0.00 509.38 116.00\" xmlns=\"http://www.w3.org/2000/svg\" xmlns:xlink=\"http://www.w3.org/1999/xlink\">\n",
       "<g id=\"graph0\" class=\"graph\" transform=\"scale(1 1) rotate(0) translate(4 112)\">\n",
       "<title>%3</title>\n",
       "<polygon fill=\"#ffffff\" stroke=\"transparent\" points=\"-4,4 -4,-112 505.3788,-112 505.3788,4 -4,4\"/>\n",
       "<!-- Disease 3 -->\n",
       "<g id=\"node1\" class=\"node\">\n",
       "<title>Disease 3</title>\n",
       "<ellipse fill=\"none\" stroke=\"#000000\" cx=\"171.1374\" cy=\"-90\" rx=\"44.4841\" ry=\"18\"/>\n",
       "<text text-anchor=\"middle\" x=\"171.1374\" y=\"-85.8\" font-family=\"Times,serif\" font-size=\"14.00\" fill=\"#000000\">Disease 3</text>\n",
       "</g>\n",
       "<!-- Symptom 0 -->\n",
       "<g id=\"node3\" class=\"node\">\n",
       "<title>Symptom 0</title>\n",
       "<ellipse fill=\"none\" stroke=\"#000000\" cx=\"51.1374\" cy=\"-18\" rx=\"51.2752\" ry=\"18\"/>\n",
       "<text text-anchor=\"middle\" x=\"51.1374\" y=\"-13.8\" font-family=\"Times,serif\" font-size=\"14.00\" fill=\"#000000\">Symptom 0</text>\n",
       "</g>\n",
       "<!-- Disease 3&#45;&gt;Symptom 0 -->\n",
       "<g id=\"edge3\" class=\"edge\">\n",
       "<title>Disease 3&#45;&gt;Symptom 0</title>\n",
       "<path fill=\"none\" stroke=\"#000000\" d=\"M146.2733,-75.0816C128.8497,-64.6274 105.3224,-50.511 86.0244,-38.9322\"/>\n",
       "<polygon fill=\"#000000\" stroke=\"#000000\" points=\"87.5906,-35.7903 77.2149,-33.6465 83.9891,-41.7927 87.5906,-35.7903\"/>\n",
       "</g>\n",
       "<!-- Symptom 3 -->\n",
       "<g id=\"node5\" class=\"node\">\n",
       "<title>Symptom 3</title>\n",
       "<ellipse fill=\"none\" stroke=\"#000000\" cx=\"171.1374\" cy=\"-18\" rx=\"51.2752\" ry=\"18\"/>\n",
       "<text text-anchor=\"middle\" x=\"171.1374\" y=\"-13.8\" font-family=\"Times,serif\" font-size=\"14.00\" fill=\"#000000\">Symptom 3</text>\n",
       "</g>\n",
       "<!-- Disease 3&#45;&gt;Symptom 3 -->\n",
       "<g id=\"edge1\" class=\"edge\">\n",
       "<title>Disease 3&#45;&gt;Symptom 3</title>\n",
       "<path fill=\"none\" stroke=\"#000000\" d=\"M171.1374,-71.8314C171.1374,-64.131 171.1374,-54.9743 171.1374,-46.4166\"/>\n",
       "<polygon fill=\"#000000\" stroke=\"#000000\" points=\"174.6375,-46.4132 171.1374,-36.4133 167.6375,-46.4133 174.6375,-46.4132\"/>\n",
       "</g>\n",
       "<!-- Symptom 2 -->\n",
       "<g id=\"node6\" class=\"node\">\n",
       "<title>Symptom 2</title>\n",
       "<ellipse fill=\"none\" stroke=\"#000000\" cx=\"291.1374\" cy=\"-18\" rx=\"51.2752\" ry=\"18\"/>\n",
       "<text text-anchor=\"middle\" x=\"291.1374\" y=\"-13.8\" font-family=\"Times,serif\" font-size=\"14.00\" fill=\"#000000\">Symptom 2</text>\n",
       "</g>\n",
       "<!-- Disease 3&#45;&gt;Symptom 2 -->\n",
       "<g id=\"edge2\" class=\"edge\">\n",
       "<title>Disease 3&#45;&gt;Symptom 2</title>\n",
       "<path fill=\"none\" stroke=\"#000000\" d=\"M196.0015,-75.0816C213.4251,-64.6274 236.9524,-50.511 256.2504,-38.9322\"/>\n",
       "<polygon fill=\"#000000\" stroke=\"#000000\" points=\"258.2857,-41.7927 265.0599,-33.6465 254.6842,-35.7903 258.2857,-41.7927\"/>\n",
       "</g>\n",
       "<!-- Disease 0 -->\n",
       "<g id=\"node2\" class=\"node\">\n",
       "<title>Disease 0</title>\n",
       "<ellipse fill=\"none\" stroke=\"#000000\" cx=\"457.1374\" cy=\"-90\" rx=\"44.4841\" ry=\"18\"/>\n",
       "<text text-anchor=\"middle\" x=\"457.1374\" y=\"-85.8\" font-family=\"Times,serif\" font-size=\"14.00\" fill=\"#000000\">Disease 0</text>\n",
       "</g>\n",
       "<!-- Symptom 1 -->\n",
       "<g id=\"node4\" class=\"node\">\n",
       "<title>Symptom 1</title>\n",
       "<ellipse fill=\"none\" stroke=\"#000000\" cx=\"411.1374\" cy=\"-18\" rx=\"51.2752\" ry=\"18\"/>\n",
       "<text text-anchor=\"middle\" x=\"411.1374\" y=\"-13.8\" font-family=\"Times,serif\" font-size=\"14.00\" fill=\"#000000\">Symptom 1</text>\n",
       "</g>\n",
       "<!-- Disease 2 -->\n",
       "<g id=\"node7\" class=\"node\">\n",
       "<title>Disease 2</title>\n",
       "<ellipse fill=\"none\" stroke=\"#000000\" cx=\"351.1374\" cy=\"-90\" rx=\"44.4841\" ry=\"18\"/>\n",
       "<text text-anchor=\"middle\" x=\"351.1374\" y=\"-85.8\" font-family=\"Times,serif\" font-size=\"14.00\" fill=\"#000000\">Disease 2</text>\n",
       "</g>\n",
       "<!-- Disease 2&#45;&gt;Symptom 1 -->\n",
       "<g id=\"edge6\" class=\"edge\">\n",
       "<title>Disease 2&#45;&gt;Symptom 1</title>\n",
       "<path fill=\"none\" stroke=\"#000000\" d=\"M365.3566,-72.937C372.7205,-64.1003 381.8579,-53.1354 390.0281,-43.3311\"/>\n",
       "<polygon fill=\"#000000\" stroke=\"#000000\" points=\"392.8904,-45.3636 396.6035,-35.4407 387.5128,-40.8823 392.8904,-45.3636\"/>\n",
       "</g>\n",
       "<!-- Disease 2&#45;&gt;Symptom 2 -->\n",
       "<g id=\"edge5\" class=\"edge\">\n",
       "<title>Disease 2&#45;&gt;Symptom 2</title>\n",
       "<path fill=\"none\" stroke=\"#000000\" d=\"M336.9182,-72.937C329.5543,-64.1003 320.4169,-53.1354 312.2466,-43.3311\"/>\n",
       "<polygon fill=\"#000000\" stroke=\"#000000\" points=\"314.7619,-40.8823 305.6713,-35.4407 309.3844,-45.3636 314.7619,-40.8823\"/>\n",
       "</g>\n",
       "<!-- Disease 1 -->\n",
       "<g id=\"node8\" class=\"node\">\n",
       "<title>Disease 1</title>\n",
       "<ellipse fill=\"none\" stroke=\"#000000\" cx=\"51.1374\" cy=\"-90\" rx=\"44.4841\" ry=\"18\"/>\n",
       "<text text-anchor=\"middle\" x=\"51.1374\" y=\"-85.8\" font-family=\"Times,serif\" font-size=\"14.00\" fill=\"#000000\">Disease 1</text>\n",
       "</g>\n",
       "<!-- Disease 1&#45;&gt;Symptom 0 -->\n",
       "<g id=\"edge4\" class=\"edge\">\n",
       "<title>Disease 1&#45;&gt;Symptom 0</title>\n",
       "<path fill=\"none\" stroke=\"#000000\" d=\"M51.1374,-71.8314C51.1374,-64.131 51.1374,-54.9743 51.1374,-46.4166\"/>\n",
       "<polygon fill=\"#000000\" stroke=\"#000000\" points=\"54.6375,-46.4132 51.1374,-36.4133 47.6375,-46.4133 54.6375,-46.4132\"/>\n",
       "</g>\n",
       "</g>\n",
       "</svg>\n"
      ],
      "text/plain": [
       "<graphviz.dot.Digraph at 0x115aa0fd0>"
      ]
     },
     "execution_count": 542,
     "metadata": {},
     "output_type": "execute_result"
    }
   ],
   "source": [
    "#RUN MEEE :D (for a new graph)\n",
    "#for fun/help w figure drawing...makes a random net and draws it :)\n",
    "random_net = MedBayesNet(np.random.randint(10), np.random.randint(10))\n",
    "graphics = random_net.get_graphics_object()\n",
    "graphics.draw()"
   ]
  },
  {
   "cell_type": "markdown",
   "metadata": {},
   "source": [
    "PART 3: DETERMINING CAUSAL LINKS\n",
    "\n",
    "Now that we have created an appropriate random bayes net generator/source of data, we will make a program that can learn the structure and weights of the disease/symptom network based on the data we feed it. \n"
   ]
  },
  {
   "cell_type": "code",
   "execution_count": 1240,
   "metadata": {
    "collapsed": true
   },
   "outputs": [],
   "source": [
    "#first we need the MI calculation from the notebook (exploration of causality), adapted to fit our data\n",
    "\n",
    "import math\n",
    "def calculate_MI_overall(observations, i_d, i_s):\n",
    "    #assumes data is of the form [[causes][effects]] i.e. [[diseases][symptoms]]\n",
    "    N_c_e = 1e-10 #+cause, +effect\n",
    "    N_nc_ne = 1e-10 #-cause, -effect\n",
    "    N_c_ne = 1e-10 #cause,-effect\n",
    "    N_nc_e = 1e-10 #-cause, +effect\n",
    "    total = len(observations)\n",
    "    \n",
    "    for p_ind in range(len(observations)):\n",
    "        c = observations[p_ind][0][i_d]\n",
    "        e = observations[p_ind][1][i_s]\n",
    "        #print(c,e)\n",
    "        if c == 1 and e == 1:\n",
    "            N_c_e +=1\n",
    "        elif c == 0 and e == 0:\n",
    "            N_nc_ne +=1\n",
    "        elif c == 1 and e == 0:\n",
    "            N_c_ne +=1\n",
    "        elif c == 0 and e == 1:\n",
    "            N_nc_e +=1\n",
    "            \n",
    "    N_e = N_c_e + N_nc_e  #+effect\n",
    "    N_c = N_c_e + N_c_ne #+cause\n",
    "    \n",
    "    def get_contribution(total, N_x_y, N_x, N_y):\n",
    "        P_joint = N_x_y/total\n",
    "        #print(N_x/total, \"marg comp\", N_y/total)\n",
    "        P_marg = N_x/total*N_y/total\n",
    "        #print(\"joint\", P_joint, \"marginal\", P_marg)\n",
    "        \n",
    "        #account for 0 cases\n",
    "        if P_joint == 0.0:\n",
    "            return 0\n",
    "        if P_marg <= 0.0:\n",
    "            P_marg = 1e-10\n",
    "            \n",
    "        #print(\"P_marg\", P_marg)\n",
    "        output = P_joint*(math.log2(P_joint/P_marg))\n",
    "        #print(\"output\", output)\n",
    "        return output\n",
    "    \n",
    "    #print(N_c_e, N_c_e, N_nc_ne, N_c_ne, N_nc_e)\n",
    "    #print(N_c, N_e)\n",
    "    #calculate sum from each of x,y !x,y, x,!y, and !x,!y\n",
    "    mutual_information = get_contribution(total, N_c_e, N_e, N_c) \\\n",
    "    +get_contribution(total, N_nc_e, N_e, total-N_c) \\\n",
    "    +get_contribution(total, N_c_ne, total-N_e, N_c) \\\n",
    "    +get_contribution(total, N_nc_ne, total-N_e, total-N_c)\n",
    "    \n",
    "    #case where the 0 approx gets us into trouble\n",
    "    if mutual_information <= 0:\n",
    "        mutual_information = 0\n",
    "    \n",
    "    return mutual_information\n",
    "\n",
    "def calculate_MI_noisyOR(observations, i_d, i_s):\n",
    "    #assumes data is of the form [[causes][effects]] i.e. [[diseases][symptoms]]\n",
    "    N_c_e = 1e-10 #+cause, +effect\n",
    "    N_nc_ne = 1e-10 #-cause, -effect\n",
    "    N_c_ne = 1e-10 #cause,-effect\n",
    "    N_nc_e = 1e-10 #-cause, +effect\n",
    "    total = len(observations)\n",
    "    \n",
    "    for p_ind in range(len(observations)):\n",
    "        c = observations[p_ind][0][i_d]\n",
    "        e = observations[p_ind][1][i_s]\n",
    "        #print(c,e)\n",
    "        if c == 1 and e == 1:\n",
    "            N_c_e +=1\n",
    "        elif c == 0 and e == 0:\n",
    "            N_nc_ne +=1\n",
    "        elif c == 1 and e == 0:\n",
    "            N_c_ne +=1\n",
    "        elif c == 0 and e == 1:\n",
    "            N_nc_e +=1\n",
    "            \n",
    "    N_e = N_c_e + N_nc_e  #+effect\n",
    "    N_c = N_c_e + N_c_ne #+cause\n",
    "    \n",
    "    def get_contribution(total, N_x_y, N_x, N_y):\n",
    "        P_joint = N_x_y/total\n",
    "        #print(N_x/total, \"marg comp\", N_y/total)\n",
    "        P_marg = N_x/total*N_y/total\n",
    "        #print(\"joint\", P_joint, \"marginal\", P_marg)\n",
    "        \n",
    "        #account for 0 cases\n",
    "        if P_joint == 0.0:\n",
    "            return 0\n",
    "        if P_marg <= 0.0:\n",
    "            P_marg = 1e-10\n",
    "            \n",
    "        #print(\"P_marg\", P_marg)\n",
    "        output = P_joint*(math.log2(P_joint/P_marg))\n",
    "        #print(\"output\", output)\n",
    "        return output\n",
    "    \n",
    "    #print(N_c_e, N_c_e, N_nc_ne, N_c_ne, N_nc_e)\n",
    "    #print(N_c, N_e)\n",
    "    #calculate sum from each of x,y !x,y, x,!y, and !x,!y\n",
    "    mutual_information = get_contribution(total, N_c_e, N_e, N_c)\n",
    "    \n",
    "    #case where the 0 approx gets us into trouble\n",
    "\n",
    "    \n",
    "    return mutual_information\n",
    "\n",
    "\n",
    "\n",
    "\n",
    "def causal_power(observations, i_d, i_s):\n",
    "    #assumes data is of the form [[causes][effects]] i.e. [[diseases][symptoms]]\n",
    "    N_c_e = 1e-10 #+cause, +effect\n",
    "    N_nc_ne = 1e-10 #-cause, -effect\n",
    "    N_c_ne = 1e-10 #cause,-effect\n",
    "    N_nc_e = 1e-10 #-cause, +effect\n",
    "    total = len(observations)\n",
    "    \n",
    "    for p_ind in range(len(observations)):\n",
    "        c = observations[p_ind][0][i_d]\n",
    "        e = observations[p_ind][1][i_s]\n",
    "        #print(c,e)\n",
    "        if c == 1 and e == 1:\n",
    "            N_c_e +=1\n",
    "        elif c == 0 and e == 0:\n",
    "            N_nc_ne +=1\n",
    "        elif c == 1 and e == 0:\n",
    "            N_c_ne +=1\n",
    "        elif c == 0 and e == 1:\n",
    "            N_nc_e +=1\n",
    "            \n",
    "    P_e_given_nc = N_nc_e/(N_c_ne+N_nc_ne)     \n",
    "    #power = delta_p/(1-pos_effect_given_neg_cause)  \n",
    "    #more causal and less covariational\n",
    "    return (N_c_e/(N_c_ne+N_c_e)-N_nc_e/(N_c_ne+N_nc_ne))/(1-P_e_given_nc)\n",
    "\n",
    "\n",
    "def delta_P(observations, i_d, i_s):\n",
    "    #assumes data is of the form [[causes][effects]] i.e. [[diseases][symptoms]]\n",
    "    N_c_e = 1e-10 #+cause, +effect\n",
    "    N_nc_ne = 1e-10 #-cause, -effect\n",
    "    N_c_ne = 1e-10 #cause,-effect\n",
    "    N_nc_e = 1e-10 #-cause, +effect\n",
    "    total = len(observations)\n",
    "    \n",
    "    for p_ind in range(len(observations)):\n",
    "        c = observations[p_ind][0][i_d]\n",
    "        e = observations[p_ind][1][i_s]\n",
    "        #print(c,e)\n",
    "        if c == 1 and e == 1:\n",
    "            N_c_e +=1\n",
    "        elif c == 0 and e == 0:\n",
    "            N_nc_ne +=1\n",
    "        elif c == 1 and e == 0:\n",
    "            N_c_ne +=1\n",
    "        elif c == 0 and e == 1:\n",
    "            N_nc_e +=1\n",
    "            \n",
    "    P_e_given_nc = N_nc_e/(N_c_ne+N_nc_ne)     \n",
    "    #power = delta_p/(1-pos_effect_given_neg_cause)  \n",
    "    #more causal and less covariational\n",
    "    return (N_c_e/(N_c_ne+N_c_e)-N_nc_e/(N_c_ne+N_nc_ne))\n",
    "\n"
   ]
  },
  {
   "cell_type": "code",
   "execution_count": 523,
   "metadata": {
    "collapsed": false
   },
   "outputs": [],
   "source": [
    "def learn_network_structure_MI(data, epsilon = None):\n",
    "    \n",
    "    if epsilon == None:\n",
    "        epsilon = 1/len(data)\n",
    "    num_diseases = len(data[0][0]) #first data point\n",
    "    num_symptoms = len(data[0][1])\n",
    "    print(num_diseases, \" diseases\", num_symptoms, \" symptoms\")\n",
    "    \n",
    "    disease_connections = {}\n",
    "    #first, check for mutual information links between diseases and symptoms\n",
    "    #make a dictionary of symptoms for each disease\n",
    "    for d in range(num_diseases):\n",
    "        disease_connections[d] = []\n",
    "        for s in range(num_symptoms):\n",
    "            #print(d, s)\n",
    "            value_MI= calculate_MI_overall(data, d, s)\n",
    "            #value_OR_MI= calculate_MI_noisyOR(data, d, s)\n",
    "            value_CP= causal_power(data, d, s)\n",
    "            print(\"for disease\", d, \"and symptom\", s, \"CP = \", value_CP)\n",
    "            print(\"for disease\", d, \"and symptom\", s, \"MI = \", value_MI)\n",
    "            #print(\"for disease\", d, \"and symptom\", s, \"noisyOR_MI = \", value_OR_MI)\n",
    "            if value_MI > epsilon: \n",
    "                disease_connections[d].append(s)\n",
    "    return disease_connections\n",
    "                \n",
    "                \n"
   ]
  },
  {
   "cell_type": "code",
   "execution_count": 568,
   "metadata": {
    "collapsed": false
   },
   "outputs": [
    {
     "name": "stderr",
     "output_type": "stream",
     "text": [
      "100%|██████████| 100/100 [00:00<00:00, 4814.90it/s]"
     ]
    },
    {
     "name": "stdout",
     "output_type": "stream",
     "text": [
      "4  diseases 4  symptoms\n",
      "for disease 0 and symptom 0 CP =  0.47368421052601445\n",
      "for disease 0 and symptom 0 MI =  0.24684964909835125\n",
      "for disease 0 and symptom 1 CP =  0.2105263157916984\n",
      "for disease 0 and symptom 1 MI =  0.10121955084099674\n",
      "for disease 0 and symptom 2 CP =  0.2105263157916984\n",
      "for disease 0 and symptom 2 MI =  0.10121955084099674\n",
      "for disease 0 and symptom 3 CP =  4.263157894687704e-12\n",
      "for disease 0 and symptom 3 MI =  6.4709205235212575e-12\n",
      "for disease 1 and symptom 0 CP =  0.13636363636378923\n",
      "for disease 1 and symptom 0 MI =  0.05721025646139002\n",
      "for disease 1 and symptom 1 CP =  0.06060606060641356\n",
      "for disease 1 and symptom 1 MI =  0.024593782716990326\n",
      "for disease 1 and symptom 2 CP =  0.06060606060641356\n",
      "for disease 1 and symptom 2 MI =  0.024593782716990326\n",
      "for disease 1 and symptom 3 CP =  5.151515151494388e-13\n",
      "for disease 1 and symptom 3 MI =  5.926533550316464e-12\n",
      "for disease 2 and symptom 0 CP =  0.007994186046931565\n",
      "for disease 2 and symptom 0 MI =  0.011328434880115285\n",
      "for disease 2 and symptom 1 CP =  0.06250000000039062\n",
      "for disease 2 and symptom 1 MI =  0.026426546418777307\n",
      "for disease 2 and symptom 2 CP =  0.06250000000039062\n",
      "for disease 2 and symptom 2 MI =  0.026426546418777307\n",
      "for disease 2 and symptom 3 CP =  5.624999999976796e-13\n",
      "for disease 2 and symptom 3 MI =  5.888798665838985e-12\n",
      "for disease 3 and symptom 0 CP =  0.011764705883666394\n",
      "for disease 3 and symptom 0 MI =  0.0009806438228446108\n",
      "for disease 3 and symptom 1 CP =  -0.04347826086792933\n",
      "for disease 3 and symptom 1 MI =  0.02928972121415723\n",
      "for disease 3 and symptom 2 CP =  -0.005789909014218285\n",
      "for disease 3 and symptom 2 MI =  0.002625855122401268\n",
      "for disease 3 and symptom 3 CP =  1.5641025640929788e-12\n",
      "for disease 3 and symptom 3 MI =  5.8425376611659775e-12\n"
     ]
    },
    {
     "name": "stderr",
     "output_type": "stream",
     "text": [
      "\n"
     ]
    },
    {
     "data": {
      "text/plain": [
       "{0: [0, 1, 2], 1: [0, 1, 2], 2: [0, 1, 2], 3: [1]}"
      ]
     },
     "execution_count": 568,
     "metadata": {},
     "output_type": "execute_result"
    }
   ],
   "source": [
    "ex_data = sample_from_net(random_net, 100)\n",
    "learn_network_structure_MI(ex_data)"
   ]
  },
  {
   "cell_type": "code",
   "execution_count": 539,
   "metadata": {
    "collapsed": false
   },
   "outputs": [
    {
     "name": "stdout",
     "output_type": "stream",
     "text": [
      "0.5336318612098694\n",
      "0.1944548487663269\n",
      "0.8883101940155029\n",
      "0.24234747886657715\n",
      "0.801480770111084\n",
      "0.7725164294242859\n",
      "0 {2: 0.04135596752166748}\n",
      "1 {}\n",
      "2 {}\n",
      "3 {1: 0.34665483236312866, 3: 0.2919524908065796}\n",
      "4 {3: 0.3786255717277527}\n",
      "5 {1: 0.3450669050216675, 2: 0.6304187774658203}\n"
     ]
    }
   ],
   "source": [
    "random_net.display_disease_priors()\n",
    "random_net.display_disease_connections()"
   ]
  },
  {
   "cell_type": "code",
   "execution_count": 527,
   "metadata": {
    "collapsed": false
   },
   "outputs": [
    {
     "name": "stderr",
     "output_type": "stream",
     "text": [
      "100%|██████████| 100/100 [00:00<00:00, 2082.73it/s]\n"
     ]
    },
    {
     "data": {
      "text/plain": [
       "[[[1.0, 1.0, 0.0, 1.0], [1.0, 1.0, 1.0, 0.0, 0.0, 0.0]],\n",
       " [[1.0, 0.0, 0.0, 1.0], [1.0, 0.0, 0.0, 0.0, 0.0, 0.0]],\n",
       " [[1.0, 0.0, 0.0, 1.0], [0.0, 0.0, 1.0, 0.0, 0.0, 0.0]],\n",
       " [[1.0, 1.0, 0.0, 1.0], [1.0, 0.0, 1.0, 1.0, 0.0, 0.0]],\n",
       " [[0.0, 0.0, 1.0, 1.0], [0.0, 0.0, 0.0, 0.0, 0.0, 0.0]],\n",
       " [[1.0, 0.0, 0.0, 1.0], [0.0, 0.0, 1.0, 0.0, 0.0, 0.0]],\n",
       " [[1.0, 0.0, 0.0, 1.0], [0.0, 0.0, 0.0, 0.0, 0.0, 0.0]],\n",
       " [[1.0, 0.0, 0.0, 0.0], [0.0, 0.0, 1.0, 0.0, 0.0, 0.0]],\n",
       " [[1.0, 1.0, 1.0, 0.0], [1.0, 1.0, 1.0, 1.0, 0.0, 0.0]],\n",
       " [[0.0, 0.0, 1.0, 1.0], [0.0, 0.0, 0.0, 0.0, 0.0, 0.0]],\n",
       " [[1.0, 0.0, 1.0, 1.0], [0.0, 0.0, 1.0, 0.0, 0.0, 0.0]],\n",
       " [[1.0, 1.0, 0.0, 1.0], [1.0, 1.0, 1.0, 0.0, 0.0, 0.0]],\n",
       " [[1.0, 0.0, 1.0, 1.0], [0.0, 0.0, 0.0, 0.0, 0.0, 0.0]],\n",
       " [[0.0, 0.0, 0.0, 1.0], [0.0, 0.0, 0.0, 0.0, 0.0, 0.0]],\n",
       " [[1.0, 0.0, 1.0, 0.0], [0.0, 0.0, 0.0, 0.0, 0.0, 0.0]],\n",
       " [[1.0, 0.0, 0.0, 1.0], [0.0, 0.0, 0.0, 0.0, 0.0, 0.0]],\n",
       " [[1.0, 0.0, 1.0, 0.0], [1.0, 0.0, 1.0, 0.0, 0.0, 0.0]],\n",
       " [[1.0, 0.0, 0.0, 0.0], [0.0, 0.0, 1.0, 0.0, 0.0, 0.0]],\n",
       " [[1.0, 0.0, 1.0, 1.0], [0.0, 0.0, 0.0, 0.0, 0.0, 0.0]],\n",
       " [[1.0, 0.0, 1.0, 1.0], [0.0, 0.0, 0.0, 0.0, 0.0, 0.0]],\n",
       " [[1.0, 0.0, 0.0, 1.0], [0.0, 0.0, 0.0, 0.0, 0.0, 0.0]],\n",
       " [[1.0, 0.0, 0.0, 1.0], [0.0, 0.0, 1.0, 0.0, 0.0, 0.0]],\n",
       " [[1.0, 0.0, 0.0, 1.0], [0.0, 0.0, 0.0, 0.0, 0.0, 0.0]],\n",
       " [[1.0, 0.0, 0.0, 1.0], [0.0, 0.0, 1.0, 0.0, 0.0, 0.0]],\n",
       " [[1.0, 0.0, 0.0, 1.0], [0.0, 0.0, 1.0, 0.0, 0.0, 0.0]],\n",
       " [[1.0, 0.0, 0.0, 0.0], [1.0, 0.0, 1.0, 0.0, 0.0, 0.0]],\n",
       " [[1.0, 1.0, 0.0, 1.0], [1.0, 1.0, 0.0, 0.0, 0.0, 0.0]],\n",
       " [[1.0, 0.0, 1.0, 1.0], [0.0, 0.0, 0.0, 0.0, 0.0, 0.0]],\n",
       " [[1.0, 0.0, 0.0, 1.0], [0.0, 0.0, 1.0, 0.0, 0.0, 0.0]],\n",
       " [[1.0, 1.0, 0.0, 1.0], [1.0, 1.0, 0.0, 1.0, 0.0, 0.0]],\n",
       " [[1.0, 1.0, 1.0, 1.0], [1.0, 1.0, 0.0, 1.0, 0.0, 0.0]],\n",
       " [[0.0, 0.0, 1.0, 1.0], [0.0, 0.0, 0.0, 0.0, 0.0, 0.0]],\n",
       " [[1.0, 0.0, 1.0, 0.0], [0.0, 0.0, 1.0, 0.0, 0.0, 0.0]],\n",
       " [[1.0, 1.0, 0.0, 1.0], [1.0, 1.0, 0.0, 0.0, 0.0, 0.0]],\n",
       " [[1.0, 0.0, 0.0, 0.0], [1.0, 0.0, 0.0, 0.0, 0.0, 0.0]],\n",
       " [[1.0, 0.0, 0.0, 1.0], [1.0, 0.0, 0.0, 0.0, 0.0, 0.0]],\n",
       " [[1.0, 1.0, 1.0, 0.0], [1.0, 1.0, 0.0, 1.0, 1.0, 0.0]],\n",
       " [[0.0, 0.0, 1.0, 1.0], [0.0, 0.0, 0.0, 0.0, 0.0, 0.0]],\n",
       " [[1.0, 1.0, 1.0, 1.0], [1.0, 0.0, 1.0, 1.0, 0.0, 0.0]],\n",
       " [[1.0, 0.0, 0.0, 1.0], [0.0, 0.0, 0.0, 0.0, 0.0, 0.0]],\n",
       " [[1.0, 1.0, 1.0, 1.0], [1.0, 0.0, 0.0, 1.0, 1.0, 0.0]],\n",
       " [[1.0, 0.0, 0.0, 0.0], [0.0, 0.0, 0.0, 0.0, 0.0, 0.0]],\n",
       " [[1.0, 0.0, 1.0, 1.0], [0.0, 0.0, 0.0, 0.0, 0.0, 0.0]],\n",
       " [[1.0, 0.0, 0.0, 1.0], [0.0, 0.0, 0.0, 0.0, 0.0, 0.0]],\n",
       " [[1.0, 1.0, 1.0, 0.0], [1.0, 1.0, 1.0, 1.0, 1.0, 0.0]],\n",
       " [[1.0, 0.0, 0.0, 1.0], [0.0, 0.0, 0.0, 0.0, 0.0, 0.0]],\n",
       " [[1.0, 0.0, 0.0, 1.0], [0.0, 0.0, 1.0, 0.0, 0.0, 0.0]],\n",
       " [[1.0, 0.0, 0.0, 1.0], [0.0, 0.0, 0.0, 0.0, 0.0, 0.0]],\n",
       " [[1.0, 0.0, 1.0, 1.0], [0.0, 0.0, 1.0, 0.0, 0.0, 0.0]],\n",
       " [[1.0, 0.0, 0.0, 1.0], [1.0, 0.0, 0.0, 0.0, 0.0, 0.0]],\n",
       " [[1.0, 0.0, 1.0, 1.0], [0.0, 0.0, 0.0, 0.0, 0.0, 0.0]],\n",
       " [[1.0, 0.0, 0.0, 1.0], [0.0, 0.0, 1.0, 0.0, 0.0, 0.0]],\n",
       " [[1.0, 0.0, 1.0, 0.0], [0.0, 0.0, 1.0, 0.0, 0.0, 0.0]],\n",
       " [[1.0, 0.0, 1.0, 1.0], [0.0, 0.0, 0.0, 0.0, 0.0, 0.0]],\n",
       " [[0.0, 0.0, 1.0, 1.0], [0.0, 0.0, 0.0, 0.0, 0.0, 0.0]],\n",
       " [[1.0, 0.0, 1.0, 1.0], [0.0, 0.0, 0.0, 0.0, 0.0, 0.0]],\n",
       " [[1.0, 1.0, 1.0, 0.0], [0.0, 1.0, 0.0, 0.0, 1.0, 0.0]],\n",
       " [[1.0, 1.0, 0.0, 1.0], [1.0, 1.0, 1.0, 1.0, 0.0, 0.0]],\n",
       " [[1.0, 0.0, 1.0, 1.0], [0.0, 0.0, 1.0, 0.0, 0.0, 0.0]],\n",
       " [[1.0, 0.0, 0.0, 1.0], [0.0, 0.0, 1.0, 0.0, 0.0, 0.0]],\n",
       " [[1.0, 1.0, 1.0, 0.0], [1.0, 1.0, 0.0, 0.0, 1.0, 0.0]],\n",
       " [[1.0, 0.0, 1.0, 0.0], [0.0, 0.0, 1.0, 0.0, 0.0, 0.0]],\n",
       " [[1.0, 0.0, 0.0, 0.0], [1.0, 0.0, 1.0, 0.0, 0.0, 0.0]],\n",
       " [[1.0, 1.0, 0.0, 0.0], [0.0, 0.0, 0.0, 1.0, 1.0, 0.0]],\n",
       " [[0.0, 0.0, 0.0, 1.0], [0.0, 0.0, 0.0, 0.0, 0.0, 0.0]],\n",
       " [[1.0, 0.0, 0.0, 0.0], [0.0, 0.0, 0.0, 0.0, 0.0, 0.0]],\n",
       " [[0.0, 0.0, 0.0, 1.0], [0.0, 0.0, 0.0, 0.0, 0.0, 0.0]],\n",
       " [[0.0, 0.0, 0.0, 0.0], [0.0, 0.0, 0.0, 0.0, 0.0, 0.0]],\n",
       " [[1.0, 0.0, 0.0, 0.0], [0.0, 0.0, 0.0, 0.0, 0.0, 0.0]],\n",
       " [[0.0, 0.0, 0.0, 1.0], [0.0, 0.0, 0.0, 0.0, 0.0, 0.0]],\n",
       " [[1.0, 0.0, 0.0, 1.0], [0.0, 0.0, 0.0, 0.0, 0.0, 0.0]],\n",
       " [[1.0, 0.0, 0.0, 0.0], [0.0, 0.0, 1.0, 0.0, 0.0, 0.0]],\n",
       " [[1.0, 0.0, 0.0, 0.0], [1.0, 0.0, 0.0, 0.0, 0.0, 0.0]],\n",
       " [[1.0, 0.0, 0.0, 1.0], [0.0, 0.0, 0.0, 0.0, 0.0, 0.0]],\n",
       " [[1.0, 0.0, 0.0, 1.0], [0.0, 0.0, 0.0, 0.0, 0.0, 0.0]],\n",
       " [[1.0, 0.0, 0.0, 1.0], [0.0, 0.0, 1.0, 0.0, 0.0, 0.0]],\n",
       " [[1.0, 0.0, 0.0, 0.0], [0.0, 0.0, 1.0, 0.0, 0.0, 0.0]],\n",
       " [[1.0, 1.0, 0.0, 0.0], [1.0, 0.0, 1.0, 1.0, 1.0, 0.0]],\n",
       " [[0.0, 0.0, 0.0, 0.0], [0.0, 0.0, 0.0, 0.0, 0.0, 0.0]],\n",
       " [[1.0, 0.0, 0.0, 1.0], [0.0, 0.0, 1.0, 0.0, 0.0, 0.0]],\n",
       " [[1.0, 0.0, 1.0, 1.0], [0.0, 0.0, 1.0, 0.0, 0.0, 0.0]],\n",
       " [[1.0, 0.0, 0.0, 1.0], [0.0, 0.0, 0.0, 0.0, 0.0, 0.0]],\n",
       " [[1.0, 0.0, 0.0, 0.0], [0.0, 0.0, 0.0, 0.0, 0.0, 0.0]],\n",
       " [[1.0, 0.0, 0.0, 0.0], [0.0, 0.0, 0.0, 0.0, 0.0, 0.0]],\n",
       " [[1.0, 1.0, 1.0, 1.0], [1.0, 1.0, 0.0, 0.0, 1.0, 0.0]],\n",
       " [[1.0, 0.0, 0.0, 1.0], [0.0, 0.0, 0.0, 0.0, 0.0, 0.0]],\n",
       " [[1.0, 1.0, 1.0, 1.0], [1.0, 1.0, 0.0, 0.0, 1.0, 0.0]],\n",
       " [[1.0, 0.0, 0.0, 0.0], [0.0, 0.0, 0.0, 0.0, 0.0, 0.0]],\n",
       " [[0.0, 0.0, 0.0, 1.0], [0.0, 0.0, 0.0, 0.0, 0.0, 0.0]],\n",
       " [[1.0, 0.0, 0.0, 1.0], [0.0, 0.0, 1.0, 0.0, 0.0, 0.0]],\n",
       " [[1.0, 0.0, 0.0, 1.0], [0.0, 0.0, 0.0, 0.0, 0.0, 0.0]],\n",
       " [[1.0, 0.0, 0.0, 1.0], [0.0, 0.0, 1.0, 0.0, 0.0, 0.0]],\n",
       " [[0.0, 0.0, 1.0, 1.0], [0.0, 0.0, 0.0, 0.0, 0.0, 0.0]],\n",
       " [[1.0, 0.0, 0.0, 1.0], [0.0, 0.0, 0.0, 0.0, 0.0, 0.0]],\n",
       " [[1.0, 1.0, 0.0, 1.0], [1.0, 1.0, 0.0, 0.0, 0.0, 0.0]],\n",
       " [[1.0, 0.0, 0.0, 1.0], [0.0, 0.0, 1.0, 0.0, 0.0, 0.0]],\n",
       " [[0.0, 0.0, 0.0, 1.0], [0.0, 0.0, 0.0, 0.0, 0.0, 0.0]],\n",
       " [[0.0, 0.0, 1.0, 0.0], [0.0, 0.0, 0.0, 0.0, 0.0, 0.0]],\n",
       " [[1.0, 1.0, 0.0, 1.0], [1.0, 0.0, 0.0, 1.0, 1.0, 0.0]],\n",
       " [[0.0, 0.0, 1.0, 1.0], [0.0, 0.0, 0.0, 0.0, 0.0, 0.0]]]"
      ]
     },
     "execution_count": 527,
     "metadata": {},
     "output_type": "execute_result"
    }
   ],
   "source": [
    "sample_from_net(new_random_net, 100)"
   ]
  },
  {
   "cell_type": "code",
   "execution_count": 670,
   "metadata": {
    "collapsed": false
   },
   "outputs": [],
   "source": [
    "import pandas as pd\n",
    "def generate_all_results(num_dis, num_sym):\n",
    "    #generates 3 sets of objects, for n = 100, 1000, 10000\n",
    "    #objects are [original graphics object, original_priors + p_values]\n",
    "    #then for each n [big info table, inferred MI structure graphics object]\n",
    "    \n",
    "    #initialize the net\n",
    "    med_net = MedBayesNet(num_dis, num_sym)\n",
    "    orig_graphics = med_net.get_graphics_object()\n",
    "    \n",
    "   \n",
    "    priors = med_net.display_disease_priors()\n",
    "    sym_dict = med_net.display_disease_connections() \n",
    "    \n",
    "    original = [priors, sym_dict]\n",
    "    \n",
    "    \n",
    "   \n",
    "    #get samples across diff sizes\n",
    "    s100 = sample_from_net(med_net, 100)\n",
    "    s1000 = sample_from_net(med_net, 1000)\n",
    "    s10000 = sample_from_net(med_net, 10000)\n",
    "    \n",
    "    \n",
    "    \n",
    "    #make a pandas df object containing the info about a sample\n",
    "    def get_info_summary(sample):\n",
    "        \n",
    "        epsilon = 1/len(sample)\n",
    "      \n",
    "        all_rows = []\n",
    "        \n",
    "        disease_connections ={}\n",
    "        \n",
    "        for d in range(num_dis):\n",
    "    \n",
    "            disease = med_net.get_disease_object(d)\n",
    "            disease_connections[d] = []\n",
    "        \n",
    "            for s in range(num_sym):\n",
    "\n",
    "                \n",
    "                if s in disease.symptom_dict:\n",
    "                    p_val = disease.symptom_dict[s]\n",
    "                else:\n",
    "                    p_val = \"NA\"\n",
    "                    \n",
    "                value_MI = calculate_MI_overall(sample, d, s)\n",
    "                value_CP = causal_power(sample, d, s)\n",
    "                value_dP = delta_P(sample, d, s)\n",
    "                \n",
    "                struct = 0\n",
    "                if value_MI > epsilon: \n",
    "                    disease_connections[d].append(s)\n",
    "                    struct = 1\n",
    "      \n",
    "                 \n",
    "                s2 = 0 \n",
    "                if value_CP > epsilon: \n",
    "                    s2 = 1\n",
    "        \n",
    "                \n",
    "                s_row = [d, s, p_val, value_MI, value_CP, value_dP, struct, s2]\n",
    "\n",
    "                all_rows.append(s_row)\n",
    "\n",
    "        return (pd.DataFrame(all_rows, columns = [\"D\", \"S\", \"Original p_val\", \"MI\", \"Causal Power\", \"deltaP\", \"MI Link\", \"CP Link\"]),\\\n",
    "                disease_connections)\n",
    "                                          \n",
    "    (info100, conn100) = get_info_summary(s100)\n",
    "    (info1000, conn1000) = get_info_summary(s1000)\n",
    "    (info10000, conn10000) = get_info_summary(s10000)\n",
    "\n",
    "    # get inferred graphical objects \n",
    "    def make_inferred_graphics_object(conn):\n",
    "        d_strings = []\n",
    "        s_strings = []\n",
    "        connections = []\n",
    "        #make string objects for nodes and edges\n",
    "        for s in range(num_sym):\n",
    "            s_str = \"Symptom \"+str(s)\n",
    "            s_strings.append(s_str)\n",
    "            \n",
    "        for i in range(num_dis):\n",
    "            d_str = \"Disease \"+str(i)\n",
    "            d_strings.append(d_str)\n",
    "            for sym in conn[i]:\n",
    "                tup = (d_str, s_strings[sym])\n",
    "                connections.append(tup)\n",
    "        #print(connections)\n",
    "        #print(d_strings + s_strings)\n",
    "        graphic = CausalGraphicalModel(\n",
    "        nodes= d_strings + s_strings,\n",
    "        edges= connections\n",
    "            )\n",
    "        return graphic \n",
    "    \n",
    "    return [orig_graphics, original, \\\n",
    "           [info100, make_inferred_graphics_object(conn100)], \\\n",
    "           [info1000, make_inferred_graphics_object(conn1000)], \\\n",
    "           [info10000, make_inferred_graphics_object(conn10000)]]\n",
    "            \n",
    "    \n",
    "        \n",
    "    \n",
    "    \n",
    "    \n",
    "    "
   ]
  },
  {
   "cell_type": "markdown",
   "metadata": {},
   "source": [
    "PART 4: RESULTS\n",
    "\n",
    "\n",
    "Starting from here, run the following cells to generate, sample,\n",
    "and infer the structure of a randomly-generated bayes net "
   ]
  },
  {
   "cell_type": "code",
   "execution_count": 1229,
   "metadata": {
    "collapsed": false
   },
   "outputs": [
    {
     "name": "stderr",
     "output_type": "stream",
     "text": [
      "100%|██████████| 100/100 [00:00<00:00, 6706.92it/s]\n",
      "100%|██████████| 1000/1000 [00:00<00:00, 5577.31it/s]\n",
      "  0%|          | 0/10000 [00:00<?, ?it/s]"
     ]
    },
    {
     "name": "stdout",
     "output_type": "stream",
     "text": [
      "0.3733167052268982\n",
      "0.8717514276504517\n",
      "0.28280383348464966\n",
      "0.5162818431854248\n",
      "0 {0: 0.12150448560714722, 1: 0.37914443016052246}\n",
      "1 {0: 0.9918602108955383}\n",
      "2 {0: 0.7644745111465454, 1: 0.08564901351928711}\n",
      "3 {0: 0.5068826079368591, 1: 0.5451251864433289}\n"
     ]
    },
    {
     "name": "stderr",
     "output_type": "stream",
     "text": [
      "100%|██████████| 10000/10000 [00:01<00:00, 5642.93it/s]\n"
     ]
    }
   ],
   "source": [
    "#START HERE\n",
    "\n",
    "#use these to specify the size of your net \n",
    "num_diseases = 4\n",
    "num_symptoms = 2\n",
    "#generate results for 3 sample sizes (100, 1000, 10000), display original data \n",
    "orig_graph, orig, n100, n1000, n10000 = generate_all_results(num_diseases, num_symptoms) "
   ]
  },
  {
   "cell_type": "code",
   "execution_count": 1230,
   "metadata": {
    "collapsed": false
   },
   "outputs": [],
   "source": [
    "#[dataFrame, graphicsObject] split by number of samples\n",
    "[df100, g100] = n100\n",
    "[df1000, g1000] = n1000\n",
    "[df10000, g10000] = n10000"
   ]
  },
  {
   "cell_type": "code",
   "execution_count": 1231,
   "metadata": {
    "collapsed": false
   },
   "outputs": [
    {
     "data": {
      "image/svg+xml": [
       "<?xml version=\"1.0\" encoding=\"UTF-8\" standalone=\"no\"?>\n",
       "<!DOCTYPE svg PUBLIC \"-//W3C//DTD SVG 1.1//EN\"\n",
       " \"http://www.w3.org/Graphics/SVG/1.1/DTD/svg11.dtd\">\n",
       "<!-- Generated by graphviz version 2.40.1 (20161225.0304)\n",
       " -->\n",
       "<!-- Title: %3 Pages: 1 -->\n",
       "<svg width=\"414pt\" height=\"116pt\"\n",
       " viewBox=\"0.00 0.00 414.48 116.00\" xmlns=\"http://www.w3.org/2000/svg\" xmlns:xlink=\"http://www.w3.org/1999/xlink\">\n",
       "<g id=\"graph0\" class=\"graph\" transform=\"scale(1 1) rotate(0) translate(4 112)\">\n",
       "<title>%3</title>\n",
       "<polygon fill=\"#ffffff\" stroke=\"transparent\" points=\"-4,4 -4,-112 410.4828,-112 410.4828,4 -4,4\"/>\n",
       "<!-- Disease 3 -->\n",
       "<g id=\"node1\" class=\"node\">\n",
       "<title>Disease 3</title>\n",
       "<ellipse fill=\"none\" stroke=\"#000000\" cx=\"44.2414\" cy=\"-90\" rx=\"44.4841\" ry=\"18\"/>\n",
       "<text text-anchor=\"middle\" x=\"44.2414\" y=\"-85.8\" font-family=\"Times,serif\" font-size=\"14.00\" fill=\"#000000\">Disease 3</text>\n",
       "</g>\n",
       "<!-- Symptom 0 -->\n",
       "<g id=\"node3\" class=\"node\">\n",
       "<title>Symptom 0</title>\n",
       "<ellipse fill=\"none\" stroke=\"#000000\" cx=\"256.2414\" cy=\"-18\" rx=\"51.2752\" ry=\"18\"/>\n",
       "<text text-anchor=\"middle\" x=\"256.2414\" y=\"-13.8\" font-family=\"Times,serif\" font-size=\"14.00\" fill=\"#000000\">Symptom 0</text>\n",
       "</g>\n",
       "<!-- Disease 3&#45;&gt;Symptom 0 -->\n",
       "<g id=\"edge2\" class=\"edge\">\n",
       "<title>Disease 3&#45;&gt;Symptom 0</title>\n",
       "<path fill=\"none\" stroke=\"#000000\" d=\"M78.3029,-78.432C113.9104,-66.3388 170.0242,-47.2813 209.7044,-33.805\"/>\n",
       "<polygon fill=\"#000000\" stroke=\"#000000\" points=\"211.0727,-37.0367 219.416,-30.5067 208.8216,-30.4085 211.0727,-37.0367\"/>\n",
       "</g>\n",
       "<!-- Symptom 1 -->\n",
       "<g id=\"node4\" class=\"node\">\n",
       "<title>Symptom 1</title>\n",
       "<ellipse fill=\"none\" stroke=\"#000000\" cx=\"136.2414\" cy=\"-18\" rx=\"51.2752\" ry=\"18\"/>\n",
       "<text text-anchor=\"middle\" x=\"136.2414\" y=\"-13.8\" font-family=\"Times,serif\" font-size=\"14.00\" fill=\"#000000\">Symptom 1</text>\n",
       "</g>\n",
       "<!-- Disease 3&#45;&gt;Symptom 1 -->\n",
       "<g id=\"edge1\" class=\"edge\">\n",
       "<title>Disease 3&#45;&gt;Symptom 1</title>\n",
       "<path fill=\"none\" stroke=\"#000000\" d=\"M64.6592,-74.0209C77.1094,-64.2772 93.2256,-51.6645 107.0129,-40.8745\"/>\n",
       "<polygon fill=\"#000000\" stroke=\"#000000\" points=\"109.5249,-43.353 115.2428,-34.4336 105.2107,-37.8405 109.5249,-43.353\"/>\n",
       "</g>\n",
       "<!-- Disease 0 -->\n",
       "<g id=\"node2\" class=\"node\">\n",
       "<title>Disease 0</title>\n",
       "<ellipse fill=\"none\" stroke=\"#000000\" cx=\"150.2414\" cy=\"-90\" rx=\"44.4841\" ry=\"18\"/>\n",
       "<text text-anchor=\"middle\" x=\"150.2414\" y=\"-85.8\" font-family=\"Times,serif\" font-size=\"14.00\" fill=\"#000000\">Disease 0</text>\n",
       "</g>\n",
       "<!-- Disease 0&#45;&gt;Symptom 0 -->\n",
       "<g id=\"edge4\" class=\"edge\">\n",
       "<title>Disease 0&#45;&gt;Symptom 0</title>\n",
       "<path fill=\"none\" stroke=\"#000000\" d=\"M172.981,-74.5542C187.9002,-64.4204 207.6304,-51.0188 224.1394,-39.8051\"/>\n",
       "<polygon fill=\"#000000\" stroke=\"#000000\" points=\"226.1308,-42.6836 232.4364,-34.1694 222.1976,-36.893 226.1308,-42.6836\"/>\n",
       "</g>\n",
       "<!-- Disease 0&#45;&gt;Symptom 1 -->\n",
       "<g id=\"edge3\" class=\"edge\">\n",
       "<title>Disease 0&#45;&gt;Symptom 1</title>\n",
       "<path fill=\"none\" stroke=\"#000000\" d=\"M146.7086,-71.8314C145.2113,-64.131 143.4308,-54.9743 141.7668,-46.4166\"/>\n",
       "<polygon fill=\"#000000\" stroke=\"#000000\" points=\"145.1662,-45.5614 139.8217,-36.4133 138.2949,-46.8975 145.1662,-45.5614\"/>\n",
       "</g>\n",
       "<!-- Disease 2 -->\n",
       "<g id=\"node5\" class=\"node\">\n",
       "<title>Disease 2</title>\n",
       "<ellipse fill=\"none\" stroke=\"#000000\" cx=\"256.2414\" cy=\"-90\" rx=\"44.4841\" ry=\"18\"/>\n",
       "<text text-anchor=\"middle\" x=\"256.2414\" y=\"-85.8\" font-family=\"Times,serif\" font-size=\"14.00\" fill=\"#000000\">Disease 2</text>\n",
       "</g>\n",
       "<!-- Disease 2&#45;&gt;Symptom 0 -->\n",
       "<g id=\"edge7\" class=\"edge\">\n",
       "<title>Disease 2&#45;&gt;Symptom 0</title>\n",
       "<path fill=\"none\" stroke=\"#000000\" d=\"M256.2414,-71.8314C256.2414,-64.131 256.2414,-54.9743 256.2414,-46.4166\"/>\n",
       "<polygon fill=\"#000000\" stroke=\"#000000\" points=\"259.7415,-46.4132 256.2414,-36.4133 252.7415,-46.4133 259.7415,-46.4132\"/>\n",
       "</g>\n",
       "<!-- Disease 2&#45;&gt;Symptom 1 -->\n",
       "<g id=\"edge6\" class=\"edge\">\n",
       "<title>Disease 2&#45;&gt;Symptom 1</title>\n",
       "<path fill=\"none\" stroke=\"#000000\" d=\"M231.3773,-75.0816C213.9537,-64.6274 190.4264,-50.511 171.1284,-38.9322\"/>\n",
       "<polygon fill=\"#000000\" stroke=\"#000000\" points=\"172.6946,-35.7903 162.3189,-33.6465 169.0931,-41.7927 172.6946,-35.7903\"/>\n",
       "</g>\n",
       "<!-- Disease 1 -->\n",
       "<g id=\"node6\" class=\"node\">\n",
       "<title>Disease 1</title>\n",
       "<ellipse fill=\"none\" stroke=\"#000000\" cx=\"362.2414\" cy=\"-90\" rx=\"44.4841\" ry=\"18\"/>\n",
       "<text text-anchor=\"middle\" x=\"362.2414\" y=\"-85.8\" font-family=\"Times,serif\" font-size=\"14.00\" fill=\"#000000\">Disease 1</text>\n",
       "</g>\n",
       "<!-- Disease 1&#45;&gt;Symptom 0 -->\n",
       "<g id=\"edge5\" class=\"edge\">\n",
       "<title>Disease 1&#45;&gt;Symptom 0</title>\n",
       "<path fill=\"none\" stroke=\"#000000\" d=\"M339.5017,-74.5542C324.5825,-64.4204 304.8524,-51.0188 288.3434,-39.8051\"/>\n",
       "<polygon fill=\"#000000\" stroke=\"#000000\" points=\"290.2852,-36.893 280.0464,-34.1694 286.3519,-42.6836 290.2852,-36.893\"/>\n",
       "</g>\n",
       "</g>\n",
       "</svg>\n"
      ],
      "text/plain": [
       "<graphviz.dot.Digraph at 0x131542e80>"
      ]
     },
     "execution_count": 1231,
     "metadata": {},
     "output_type": "execute_result"
    }
   ],
   "source": [
    "orig_graph.draw() #original bayes net "
   ]
  },
  {
   "cell_type": "code",
   "execution_count": 1232,
   "metadata": {
    "collapsed": false
   },
   "outputs": [
    {
     "data": {
      "image/svg+xml": [
       "<?xml version=\"1.0\" encoding=\"UTF-8\" standalone=\"no\"?>\n",
       "<!DOCTYPE svg PUBLIC \"-//W3C//DTD SVG 1.1//EN\"\n",
       " \"http://www.w3.org/Graphics/SVG/1.1/DTD/svg11.dtd\">\n",
       "<!-- Generated by graphviz version 2.40.1 (20161225.0304)\n",
       " -->\n",
       "<!-- Title: %3 Pages: 1 -->\n",
       "<svg width=\"414pt\" height=\"116pt\"\n",
       " viewBox=\"0.00 0.00 414.48 116.00\" xmlns=\"http://www.w3.org/2000/svg\" xmlns:xlink=\"http://www.w3.org/1999/xlink\">\n",
       "<g id=\"graph0\" class=\"graph\" transform=\"scale(1 1) rotate(0) translate(4 112)\">\n",
       "<title>%3</title>\n",
       "<polygon fill=\"#ffffff\" stroke=\"transparent\" points=\"-4,4 -4,-112 410.4828,-112 410.4828,4 -4,4\"/>\n",
       "<!-- Disease 3 -->\n",
       "<g id=\"node1\" class=\"node\">\n",
       "<title>Disease 3</title>\n",
       "<ellipse fill=\"none\" stroke=\"#000000\" cx=\"44.2414\" cy=\"-90\" rx=\"44.4841\" ry=\"18\"/>\n",
       "<text text-anchor=\"middle\" x=\"44.2414\" y=\"-85.8\" font-family=\"Times,serif\" font-size=\"14.00\" fill=\"#000000\">Disease 3</text>\n",
       "</g>\n",
       "<!-- Disease 0 -->\n",
       "<g id=\"node2\" class=\"node\">\n",
       "<title>Disease 0</title>\n",
       "<ellipse fill=\"none\" stroke=\"#000000\" cx=\"256.2414\" cy=\"-90\" rx=\"44.4841\" ry=\"18\"/>\n",
       "<text text-anchor=\"middle\" x=\"256.2414\" y=\"-85.8\" font-family=\"Times,serif\" font-size=\"14.00\" fill=\"#000000\">Disease 0</text>\n",
       "</g>\n",
       "<!-- Symptom 0 -->\n",
       "<g id=\"node3\" class=\"node\">\n",
       "<title>Symptom 0</title>\n",
       "<ellipse fill=\"none\" stroke=\"#000000\" cx=\"173.2414\" cy=\"-18\" rx=\"51.2752\" ry=\"18\"/>\n",
       "<text text-anchor=\"middle\" x=\"173.2414\" y=\"-13.8\" font-family=\"Times,serif\" font-size=\"14.00\" fill=\"#000000\">Symptom 0</text>\n",
       "</g>\n",
       "<!-- Disease 0&#45;&gt;Symptom 0 -->\n",
       "<g id=\"edge2\" class=\"edge\">\n",
       "<title>Disease 0&#45;&gt;Symptom 0</title>\n",
       "<path fill=\"none\" stroke=\"#000000\" d=\"M237.4074,-73.6621C226.4217,-64.1323 212.3791,-51.9508 200.2333,-41.4147\"/>\n",
       "<polygon fill=\"#000000\" stroke=\"#000000\" points=\"202.4242,-38.6818 192.5768,-34.7729 197.8373,-43.9696 202.4242,-38.6818\"/>\n",
       "</g>\n",
       "<!-- Symptom 1 -->\n",
       "<g id=\"node4\" class=\"node\">\n",
       "<title>Symptom 1</title>\n",
       "<ellipse fill=\"none\" stroke=\"#000000\" cx=\"339.2414\" cy=\"-18\" rx=\"51.2752\" ry=\"18\"/>\n",
       "<text text-anchor=\"middle\" x=\"339.2414\" y=\"-13.8\" font-family=\"Times,serif\" font-size=\"14.00\" fill=\"#000000\">Symptom 1</text>\n",
       "</g>\n",
       "<!-- Disease 0&#45;&gt;Symptom 1 -->\n",
       "<g id=\"edge1\" class=\"edge\">\n",
       "<title>Disease 0&#45;&gt;Symptom 1</title>\n",
       "<path fill=\"none\" stroke=\"#000000\" d=\"M275.0754,-73.6621C286.0611,-64.1323 300.1036,-51.9508 312.2495,-41.4147\"/>\n",
       "<polygon fill=\"#000000\" stroke=\"#000000\" points=\"314.6455,-43.9696 319.9059,-34.7729 310.0586,-38.6818 314.6455,-43.9696\"/>\n",
       "</g>\n",
       "<!-- Disease 2 -->\n",
       "<g id=\"node5\" class=\"node\">\n",
       "<title>Disease 2</title>\n",
       "<ellipse fill=\"none\" stroke=\"#000000\" cx=\"362.2414\" cy=\"-90\" rx=\"44.4841\" ry=\"18\"/>\n",
       "<text text-anchor=\"middle\" x=\"362.2414\" y=\"-85.8\" font-family=\"Times,serif\" font-size=\"14.00\" fill=\"#000000\">Disease 2</text>\n",
       "</g>\n",
       "<!-- Disease 2&#45;&gt;Symptom 1 -->\n",
       "<g id=\"edge4\" class=\"edge\">\n",
       "<title>Disease 2&#45;&gt;Symptom 1</title>\n",
       "<path fill=\"none\" stroke=\"#000000\" d=\"M356.4375,-71.8314C353.8849,-63.8406 350.8314,-54.2819 348.0106,-45.4514\"/>\n",
       "<polygon fill=\"#000000\" stroke=\"#000000\" points=\"351.3408,-44.3741 344.9637,-35.9134 344.6727,-46.5043 351.3408,-44.3741\"/>\n",
       "</g>\n",
       "<!-- Disease 1 -->\n",
       "<g id=\"node6\" class=\"node\">\n",
       "<title>Disease 1</title>\n",
       "<ellipse fill=\"none\" stroke=\"#000000\" cx=\"150.2414\" cy=\"-90\" rx=\"44.4841\" ry=\"18\"/>\n",
       "<text text-anchor=\"middle\" x=\"150.2414\" y=\"-85.8\" font-family=\"Times,serif\" font-size=\"14.00\" fill=\"#000000\">Disease 1</text>\n",
       "</g>\n",
       "<!-- Disease 1&#45;&gt;Symptom 0 -->\n",
       "<g id=\"edge3\" class=\"edge\">\n",
       "<title>Disease 1&#45;&gt;Symptom 0</title>\n",
       "<path fill=\"none\" stroke=\"#000000\" d=\"M156.0453,-71.8314C158.5979,-63.8406 161.6514,-54.2819 164.4722,-45.4514\"/>\n",
       "<polygon fill=\"#000000\" stroke=\"#000000\" points=\"167.81,-46.5043 167.519,-35.9134 161.142,-44.3741 167.81,-46.5043\"/>\n",
       "</g>\n",
       "</g>\n",
       "</svg>\n"
      ],
      "text/plain": [
       "<graphviz.dot.Digraph at 0x12b573f28>"
      ]
     },
     "execution_count": 1232,
     "metadata": {},
     "output_type": "execute_result"
    }
   ],
   "source": [
    "g1000.draw() #inferred MI bayes net "
   ]
  },
  {
   "cell_type": "code",
   "execution_count": 1233,
   "metadata": {
    "collapsed": false
   },
   "outputs": [
    {
     "data": {
      "text/html": [
       "<div>\n",
       "<style>\n",
       "    .dataframe thead tr:only-child th {\n",
       "        text-align: right;\n",
       "    }\n",
       "\n",
       "    .dataframe thead th {\n",
       "        text-align: left;\n",
       "    }\n",
       "\n",
       "    .dataframe tbody tr th {\n",
       "        vertical-align: top;\n",
       "    }\n",
       "</style>\n",
       "<table border=\"1\" class=\"dataframe\">\n",
       "  <thead>\n",
       "    <tr style=\"text-align: right;\">\n",
       "      <th></th>\n",
       "      <th>D</th>\n",
       "      <th>S</th>\n",
       "      <th>Original p_val</th>\n",
       "      <th>MI</th>\n",
       "      <th>Causal Power</th>\n",
       "      <th>deltaP</th>\n",
       "      <th>MI Link</th>\n",
       "      <th>CP Link</th>\n",
       "    </tr>\n",
       "  </thead>\n",
       "  <tbody>\n",
       "    <tr>\n",
       "      <th>0</th>\n",
       "      <td>0</td>\n",
       "      <td>0</td>\n",
       "      <td>0.121504</td>\n",
       "      <td>7.568535e-01</td>\n",
       "      <td>0.902813</td>\n",
       "      <td>0.902813</td>\n",
       "      <td>1</td>\n",
       "      <td>1</td>\n",
       "    </tr>\n",
       "    <tr>\n",
       "      <th>1</th>\n",
       "      <td>0</td>\n",
       "      <td>1</td>\n",
       "      <td>0.379144</td>\n",
       "      <td>2.830586e-01</td>\n",
       "      <td>0.450128</td>\n",
       "      <td>0.450128</td>\n",
       "      <td>1</td>\n",
       "      <td>1</td>\n",
       "    </tr>\n",
       "    <tr>\n",
       "      <th>2</th>\n",
       "      <td>1</td>\n",
       "      <td>0</td>\n",
       "      <td>0.99186</td>\n",
       "      <td>4.244546e-02</td>\n",
       "      <td>0.383528</td>\n",
       "      <td>0.377008</td>\n",
       "      <td>1</td>\n",
       "      <td>1</td>\n",
       "    </tr>\n",
       "    <tr>\n",
       "      <th>3</th>\n",
       "      <td>1</td>\n",
       "      <td>1</td>\n",
       "      <td>NA</td>\n",
       "      <td>6.669175e-05</td>\n",
       "      <td>0.154855</td>\n",
       "      <td>0.150720</td>\n",
       "      <td>0</td>\n",
       "      <td>1</td>\n",
       "    </tr>\n",
       "    <tr>\n",
       "      <th>4</th>\n",
       "      <td>2</td>\n",
       "      <td>0</td>\n",
       "      <td>0.764475</td>\n",
       "      <td>9.865874e-07</td>\n",
       "      <td>-0.063916</td>\n",
       "      <td>-0.038923</td>\n",
       "      <td>0</td>\n",
       "      <td>0</td>\n",
       "    </tr>\n",
       "    <tr>\n",
       "      <th>5</th>\n",
       "      <td>2</td>\n",
       "      <td>1</td>\n",
       "      <td>0.085649</td>\n",
       "      <td>1.025104e-02</td>\n",
       "      <td>0.140473</td>\n",
       "      <td>0.122573</td>\n",
       "      <td>1</td>\n",
       "      <td>1</td>\n",
       "    </tr>\n",
       "    <tr>\n",
       "      <th>6</th>\n",
       "      <td>3</td>\n",
       "      <td>0</td>\n",
       "      <td>0.506883</td>\n",
       "      <td>3.988012e-04</td>\n",
       "      <td>0.088239</td>\n",
       "      <td>0.063690</td>\n",
       "      <td>0</td>\n",
       "      <td>1</td>\n",
       "    </tr>\n",
       "    <tr>\n",
       "      <th>7</th>\n",
       "      <td>3</td>\n",
       "      <td>1</td>\n",
       "      <td>0.545125</td>\n",
       "      <td>1.725289e-04</td>\n",
       "      <td>0.088943</td>\n",
       "      <td>0.079876</td>\n",
       "      <td>0</td>\n",
       "      <td>1</td>\n",
       "    </tr>\n",
       "  </tbody>\n",
       "</table>\n",
       "</div>"
      ],
      "text/plain": [
       "   D  S Original p_val            MI  Causal Power    deltaP  MI Link  CP Link\n",
       "0  0  0       0.121504  7.568535e-01      0.902813  0.902813        1        1\n",
       "1  0  1       0.379144  2.830586e-01      0.450128  0.450128        1        1\n",
       "2  1  0        0.99186  4.244546e-02      0.383528  0.377008        1        1\n",
       "3  1  1             NA  6.669175e-05      0.154855  0.150720        0        1\n",
       "4  2  0       0.764475  9.865874e-07     -0.063916 -0.038923        0        0\n",
       "5  2  1       0.085649  1.025104e-02      0.140473  0.122573        1        1\n",
       "6  3  0       0.506883  3.988012e-04      0.088239  0.063690        0        1\n",
       "7  3  1       0.545125  1.725289e-04      0.088943  0.079876        0        1"
      ]
     },
     "execution_count": 1233,
     "metadata": {},
     "output_type": "execute_result"
    }
   ],
   "source": [
    "df1000 #dataframe showing stats on each potential causal link (D, S)"
   ]
  },
  {
   "cell_type": "code",
   "execution_count": 1234,
   "metadata": {
    "collapsed": false
   },
   "outputs": [
    {
     "data": {
      "text/plain": [
       "[0.3733167052268982,\n",
       " 0.8717514276504517,\n",
       " 0.28280383348464966,\n",
       " 0.5162818431854248]"
      ]
     },
     "execution_count": 1234,
     "metadata": {},
     "output_type": "execute_result"
    }
   ],
   "source": [
    "orig[0] #prior for the disease nodes"
   ]
  },
  {
   "cell_type": "code",
   "execution_count": 1235,
   "metadata": {
    "collapsed": false
   },
   "outputs": [
    {
     "data": {
      "text/plain": [
       "[{0: 0.12150448560714722, 1: 0.37914443016052246},\n",
       " {0: 0.9918602108955383},\n",
       " {0: 0.7644745111465454, 1: 0.08564901351928711},\n",
       " {0: 0.5068826079368591, 1: 0.5451251864433289}]"
      ]
     },
     "execution_count": 1235,
     "metadata": {},
     "output_type": "execute_result"
    }
   ],
   "source": [
    "orig[1] #symptom dictionaries of p-values for each node"
   ]
  },
  {
   "cell_type": "code",
   "execution_count": 1236,
   "metadata": {
    "collapsed": false
   },
   "outputs": [
    {
     "name": "stdout",
     "output_type": "stream",
     "text": [
      "62.5 % correct structure learning\n"
     ]
    }
   ],
   "source": [
    "#calculate the % correctness of the structure learning\n",
    "count = 0\n",
    "for ind, row in df1000.iterrows():\n",
    "    if row[\"Original p_val\"] == 'NA' and row[\"MI Link\"] == 1:\n",
    "        count += 1\n",
    "    elif row[\"Original p_val\"] != 'NA' and row[\"MI Link\"] == 0:\n",
    "        count += 1\n",
    "total = len(df1000.index)\n",
    "print((total - count)/total*100, \"% correct structure learning\")\n"
   ]
  },
  {
   "cell_type": "markdown",
   "metadata": {},
   "source": [
    "##### "
   ]
  },
  {
   "cell_type": "code",
   "execution_count": null,
   "metadata": {
    "collapsed": true
   },
   "outputs": [],
   "source": []
  },
  {
   "cell_type": "code",
   "execution_count": null,
   "metadata": {
    "collapsed": true
   },
   "outputs": [],
   "source": []
  },
  {
   "cell_type": "markdown",
   "metadata": {},
   "source": [
    "# "
   ]
  },
  {
   "cell_type": "code",
   "execution_count": null,
   "metadata": {
    "collapsed": true
   },
   "outputs": [],
   "source": []
  }
 ],
 "metadata": {
  "anaconda-cloud": {},
  "kernelspec": {
   "display_name": "Python [Root]",
   "language": "python",
   "name": "Python [Root]"
  },
  "language_info": {
   "codemirror_mode": {
    "name": "ipython",
    "version": 3
   },
   "file_extension": ".py",
   "mimetype": "text/x-python",
   "name": "python",
   "nbconvert_exporter": "python",
   "pygments_lexer": "ipython3",
   "version": "3.5.2"
  }
 },
 "nbformat": 4,
 "nbformat_minor": 0
}
